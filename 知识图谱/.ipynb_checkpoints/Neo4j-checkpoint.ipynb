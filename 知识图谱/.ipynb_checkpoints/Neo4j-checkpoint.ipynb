{
 "cells": [
  {
   "cell_type": "code",
   "execution_count": 1,
   "id": "polish-execution",
   "metadata": {},
   "outputs": [],
   "source": [
    "from py2neo import Graph,Node,Relationship,NodeMatcher\n",
    "import py2neo\n",
    "import csv"
   ]
  },
  {
   "cell_type": "code",
   "execution_count": 2,
   "id": "everyday-latest",
   "metadata": {},
   "outputs": [],
   "source": [
    "id = '知识'"
   ]
  },
  {
   "cell_type": "code",
   "execution_count": 3,
   "id": "excellent-mention",
   "metadata": {},
   "outputs": [],
   "source": [
    "g=Graph('http://localhost:7474', user='neo4j', password='2333')"
   ]
  },
  {
   "cell_type": "code",
   "execution_count": 4,
   "id": "strange-inflation",
   "metadata": {},
   "outputs": [
    {
     "name": "stdout",
     "output_type": "stream",
     "text": [
      "当前行数 2 当前内容 ['浮力', '液体对物体上下表面压力差', '本质']\n",
      "当前行数 3 当前内容 ['八下', '科学', '包含']\n"
     ]
    }
   ],
   "source": [
    "with open('./知识.csv', 'r', encoding='utf-8') as f:\n",
    "    reader = csv.reader(f)\n",
    "    for item in reader:\n",
    "        if reader.line_num == 1:\n",
    "            continue\n",
    "        print('当前行数', reader.line_num, '当前内容', item)\n",
    "        start_node=Node(id, name=item[0])\n",
    "        end_node=Node(id, name=item[1])\n",
    "        relation=Relationship(start_node, item[2], end_node)\n",
    "        g.merge(start_node, id, 'name')\n",
    "        g.merge(end_node, id, 'name')\n",
    "        g.merge(relation, id, 'name')"
   ]
  }
 ],
 "metadata": {
  "kernelspec": {
   "display_name": "Python 3",
   "language": "python",
   "name": "python3"
  },
  "language_info": {
   "codemirror_mode": {
    "name": "ipython",
    "version": 3
   },
   "file_extension": ".py",
   "mimetype": "text/x-python",
   "name": "python",
   "nbconvert_exporter": "python",
   "pygments_lexer": "ipython3",
   "version": "3.7.9"
  }
 },
 "nbformat": 4,
 "nbformat_minor": 5
}
